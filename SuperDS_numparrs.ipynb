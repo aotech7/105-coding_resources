{
  "nbformat": 4,
  "nbformat_minor": 0,
  "metadata": {
    "colab": {
      "provenance": [],
      "authorship_tag": "ABX9TyOT2LKM/I3TLGu49KWtql9n",
      "include_colab_link": true
    },
    "kernelspec": {
      "name": "python3",
      "display_name": "Python 3"
    },
    "language_info": {
      "name": "python"
    }
  },
  "cells": [
    {
      "cell_type": "markdown",
      "metadata": {
        "id": "view-in-github",
        "colab_type": "text"
      },
      "source": [
        "<a href=\"https://colab.research.google.com/github/aotech7/105-coding_resources/blob/main/SuperDS_numparrs.ipynb\" target=\"_parent\"><img src=\"https://colab.research.google.com/assets/colab-badge.svg\" alt=\"Open In Colab\"/></a>"
      ]
    },
    {
      "cell_type": "markdown",
      "source": [
        "Lists and Arrays"
      ],
      "metadata": {
        "id": "OOaFPRom1oV6"
      }
    },
    {
      "cell_type": "code",
      "execution_count": null,
      "metadata": {
        "id": "j1bWhee61IOO"
      },
      "outputs": [],
      "source": [
        "l = [ 123,77,40,552, 908, -64]"
      ]
    },
    {
      "cell_type": "code",
      "source": [
        "l"
      ],
      "metadata": {
        "colab": {
          "base_uri": "https://localhost:8080/"
        },
        "id": "3Kf9bIgu1TBK",
        "outputId": "de9dbf46-c666-42d7-ed2c-c540845d1933"
      },
      "execution_count": null,
      "outputs": [
        {
          "output_type": "execute_result",
          "data": {
            "text/plain": [
              "[123, 77, 40, 552, 908, -64]"
            ]
          },
          "metadata": {},
          "execution_count": 2
        }
      ]
    },
    {
      "cell_type": "markdown",
      "source": [
        "Arrays\n",
        "### #numpy is used quite often in DS\n",
        "import numpy as np"
      ],
      "metadata": {
        "id": "H-dDhL9u1tzf"
      }
    },
    {
      "cell_type": "code",
      "source": [
        "import numpy as np\n"
      ],
      "metadata": {
        "id": "zd6fDENh1mKs"
      },
      "execution_count": 6,
      "outputs": []
    },
    {
      "cell_type": "code",
      "source": [
        " a = np.array(l)\n"
      ],
      "metadata": {
        "id": "rEuVzBz22O5Y"
      },
      "execution_count": 7,
      "outputs": []
    },
    {
      "cell_type": "code",
      "source": [
        "a"
      ],
      "metadata": {
        "colab": {
          "base_uri": "https://localhost:8080/"
        },
        "id": "C5iVpXJy2izY",
        "outputId": "5cd701b0-5197-4eca-bf34-89126ab6d7a7"
      },
      "execution_count": 8,
      "outputs": [
        {
          "output_type": "execute_result",
          "data": {
            "text/plain": [
              "array([123,  77,  40, 552, 908, -64])"
            ]
          },
          "metadata": {},
          "execution_count": 8
        }
      ]
    },
    {
      "cell_type": "code",
      "source": [
        "b = np.array([12, 475, 33, 8, True, 'aa'])"
      ],
      "metadata": {
        "id": "WmZ3bExE2CJ_"
      },
      "execution_count": 11,
      "outputs": []
    },
    {
      "cell_type": "code",
      "source": [
        "# will convert all the data types into strings b/c you cannot have more than one datatype.\n",
        "# this different from a list that allows different data types"
      ],
      "metadata": {
        "id": "uVd5Z0QU3aZo"
      },
      "execution_count": 12,
      "outputs": []
    },
    {
      "cell_type": "code",
      "source": [
        "b"
      ],
      "metadata": {
        "colab": {
          "base_uri": "https://localhost:8080/"
        },
        "id": "0htnj7ZP3gvE",
        "outputId": "8c170d13-1409-4394-81c7-c2b7dea88164"
      },
      "execution_count": 13,
      "outputs": [
        {
          "output_type": "execute_result",
          "data": {
            "text/plain": [
              "array(['12', '475', '33', '8', 'True', 'aa'], dtype='<U21')"
            ]
          },
          "metadata": {},
          "execution_count": 13
        }
      ]
    },
    {
      "cell_type": "code",
      "source": [
        "#removes the last item from the list\n",
        "l.pop()\n"
      ],
      "metadata": {
        "colab": {
          "base_uri": "https://localhost:8080/"
        },
        "id": "z4ORwJzK4Pjd",
        "outputId": "53a86a15-4e7d-4c97-be4d-51876ef82f69"
      },
      "execution_count": 14,
      "outputs": [
        {
          "output_type": "execute_result",
          "data": {
            "text/plain": [
              "-64"
            ]
          },
          "metadata": {},
          "execution_count": 14
        }
      ]
    },
    {
      "cell_type": "code",
      "source": [
        "#for example l. + tab will show all the functions inside the object. i.e. l.clear, l.copy, l.extend etc\n"
      ],
      "metadata": {
        "id": "CKaOWlzA3-Ki"
      },
      "execution_count": null,
      "outputs": []
    },
    {
      "cell_type": "markdown",
      "source": [
        "use a.(selected function) a standing for array"
      ],
      "metadata": {
        "id": "wyXvqWN95OK_"
      }
    },
    {
      "cell_type": "code",
      "source": [
        "# arrays have  many more functions, useful for matrices which is a two-dimensional array.\n"
      ],
      "metadata": {
        "id": "Vv4WAymK4fqq"
      },
      "execution_count": null,
      "outputs": []
    },
    {
      "cell_type": "code",
      "source": [
        "a.mean()"
      ],
      "metadata": {
        "colab": {
          "base_uri": "https://localhost:8080/"
        },
        "id": "dzl1A1-V4fjR",
        "outputId": "3ac9bc58-80f4-4a97-b199-e42ae1894118"
      },
      "execution_count": 18,
      "outputs": [
        {
          "output_type": "execute_result",
          "data": {
            "text/plain": [
              "272.6666666666667"
            ]
          },
          "metadata": {},
          "execution_count": 18
        }
      ]
    },
    {
      "cell_type": "markdown",
      "source": [
        "example2:"
      ],
      "metadata": {
        "id": "Pq6guBaD7FYp"
      }
    },
    {
      "cell_type": "code",
      "source": [
        "l = [1, 2, 3, 4, 5, 6, 7, 8, 9, 10]\n",
        "a = np.array(l)\n"
      ],
      "metadata": {
        "id": "bsjZfFLF4yop"
      },
      "execution_count": null,
      "outputs": []
    },
    {
      "cell_type": "code",
      "source": [
        "a"
      ],
      "metadata": {
        "colab": {
          "base_uri": "https://localhost:8080/"
        },
        "id": "-HaTUNOD7OcR",
        "outputId": "0d3cc44a-d296-4c4a-9574-be2c7331d7c6"
      },
      "execution_count": 19,
      "outputs": [
        {
          "output_type": "execute_result",
          "data": {
            "text/plain": [
              "array([123,  77,  40, 552, 908, -64])"
            ]
          },
          "metadata": {},
          "execution_count": 19
        }
      ]
    },
    {
      "cell_type": "code",
      "source": [
        "a.mean()\n"
      ],
      "metadata": {
        "colab": {
          "base_uri": "https://localhost:8080/"
        },
        "id": "ZbuwJAlH7TeI",
        "outputId": "e9f48bfd-7846-4b2d-a829-26ae24530b69"
      },
      "execution_count": 22,
      "outputs": [
        {
          "output_type": "execute_result",
          "data": {
            "text/plain": [
              "272.6666666666667"
            ]
          },
          "metadata": {},
          "execution_count": 22
        }
      ]
    },
    {
      "cell_type": "code",
      "source": [
        "a.shape\n"
      ],
      "metadata": {
        "colab": {
          "base_uri": "https://localhost:8080/"
        },
        "id": "Ir-RhXdX7Pgg",
        "outputId": "bf234291-3ac7-4fa1-b99e-46e435b498f8"
      },
      "execution_count": 20,
      "outputs": [
        {
          "output_type": "execute_result",
          "data": {
            "text/plain": [
              "(6,)"
            ]
          },
          "metadata": {},
          "execution_count": 20
        }
      ]
    },
    {
      "cell_type": "code",
      "source": [
        "a.min()"
      ],
      "metadata": {
        "colab": {
          "base_uri": "https://localhost:8080/"
        },
        "id": "zmxAhxMx7jJ6",
        "outputId": "1e885ffa-8da4-4b1a-a796-98ec251f6ba9"
      },
      "execution_count": 23,
      "outputs": [
        {
          "output_type": "execute_result",
          "data": {
            "text/plain": [
              "-64"
            ]
          },
          "metadata": {},
          "execution_count": 23
        }
      ]
    }
  ]
}