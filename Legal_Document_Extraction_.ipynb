{
  "nbformat": 4,
  "nbformat_minor": 0,
  "metadata": {
    "colab": {
      "provenance": [],
      "authorship_tag": "ABX9TyOmJ8HxM3bD9xsXPWZ/mvrc",
      "include_colab_link": true
    },
    "kernelspec": {
      "name": "python3",
      "display_name": "Python 3"
    },
    "language_info": {
      "name": "python"
    }
  },
  "cells": [
    {
      "cell_type": "markdown",
      "metadata": {
        "id": "view-in-github",
        "colab_type": "text"
      },
      "source": [
        "<a href=\"https://colab.research.google.com/github/aotech7/105-coding_resources/blob/main/Legal_Document_Extraction_.ipynb\" target=\"_parent\"><img src=\"https://colab.research.google.com/assets/colab-badge.svg\" alt=\"Open In Colab\"/></a>"
      ]
    },
    {
      "cell_type": "code",
      "source": [
        "\n",
        "# create list of legal terms\n",
        "\n",
        "legal_terms =[\"Consent\", \"Data breach\", \"Data controller\", \"Data subject\", \"Biometric data\", \"Data governance\", \"Data processor\", \"Personal data\", \"Sensitive personal information\", \"Compliance\", \"Cookie\", \"Encryption\", \"GDPR\", \"Lawful basis\", \"Personal Information\", \"Peronally identifiable information\", \"Privacy Notice\", \"Pseudonymisation\", \"Anonymization\", \"Publicly available information\"]\n",
        "\n",
        "# create extractor function\n",
        "def extract_legal_terms(text, terms):\n",
        "  matches = []\n",
        "  for term in terms:\n",
        "    if term.lower() in text.lower():\n",
        "      matches.append(term)\n",
        "  return matches\n",
        "\n",
        "  sample_text = \"\"\" \"\"\"\n",
        "  extract_legal_terms(sample_text, legal_terms)\n",
        "\n",
        "  print(\"Here are the matching legal terms\", extract_legal_terms(sample_text, legal_terms))\n",
        "\n"
      ],
      "metadata": {
        "id": "WHuqP56ni8cC"
      },
      "execution_count": null,
      "outputs": []
    },
    {
      "cell_type": "code",
      "source": [],
      "metadata": {
        "id": "ul03-Ceh2rfT"
      },
      "execution_count": null,
      "outputs": []
    }
  ]
}